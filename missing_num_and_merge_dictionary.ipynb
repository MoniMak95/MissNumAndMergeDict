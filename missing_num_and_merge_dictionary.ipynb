{
 "cells": [
  {
   "cell_type": "markdown",
   "id": "4b414efd",
   "metadata": {},
   "source": [
    "## print the missing number from the list\n"
   ]
  },
  {
   "cell_type": "code",
   "execution_count": 2,
   "id": "25c55394",
   "metadata": {},
   "outputs": [
    {
     "name": "stdout",
     "output_type": "stream",
     "text": [
      "[3, 4, 9, 10, 11, 12, 13, 14, 15, 16, 17, 18, 19, 20, 21, 22, 23, 24]\n"
     ]
    }
   ],
   "source": [
    "list=[1,2,5,6,8,7,25]\n",
    "miss_ele=[]\n",
    "\n",
    "for x in range(list[0],list[-1]+1):\n",
    "    if x not in list:\n",
    "        miss_ele.append(x)\n",
    "print(miss_ele)"
   ]
  },
  {
   "cell_type": "markdown",
   "id": "4654bd2d",
   "metadata": {},
   "source": [
    "## merge two dictionary \n"
   ]
  },
  {
   "cell_type": "code",
   "execution_count": 3,
   "id": "c0439e1e",
   "metadata": {},
   "outputs": [
    {
     "data": {
      "text/plain": [
       "{'a': 10, 'b': 20, 'c': 40, 'd': 50, 'e': 40}"
      ]
     },
     "execution_count": 3,
     "metadata": {},
     "output_type": "execute_result"
    }
   ],
   "source": [
    "x={'a':10,'b':20,'c':60}\n",
    "y={'d':50,'e':40,'c':40}\n",
    "z={**x,**y}\n",
    "z"
   ]
  },
  {
   "cell_type": "code",
   "execution_count": null,
   "id": "c9ce872b",
   "metadata": {},
   "outputs": [],
   "source": []
  }
 ],
 "metadata": {
  "kernelspec": {
   "display_name": "Python 3",
   "language": "python",
   "name": "python3"
  },
  "language_info": {
   "codemirror_mode": {
    "name": "ipython",
    "version": 3
   },
   "file_extension": ".py",
   "mimetype": "text/x-python",
   "name": "python",
   "nbconvert_exporter": "python",
   "pygments_lexer": "ipython3",
   "version": "3.8.8"
  }
 },
 "nbformat": 4,
 "nbformat_minor": 5
}
